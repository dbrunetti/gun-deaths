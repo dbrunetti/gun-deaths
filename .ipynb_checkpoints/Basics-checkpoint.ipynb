{
 "cells": [
  {
   "cell_type": "code",
   "execution_count": 2,
   "metadata": {
    "collapsed": false
   },
   "outputs": [
    {
     "name": "stdout",
     "output_type": "stream",
     "text": [
      "[['', 'year', 'month', 'intent', 'police', 'sex', 'age', 'race', 'hispanic', 'place', 'education'], ['1', '2012', '01', 'Suicide', '0', 'M', '34', 'Asian/Pacific Islander', '100', 'Home', '4'], ['2', '2012', '01', 'Suicide', '0', 'F', '21', 'White', '100', 'Street', '3'], ['3', '2012', '01', 'Suicide', '0', 'M', '60', 'White', '100', 'Other specified', '4'], ['4', '2012', '02', 'Suicide', '0', 'M', '64', 'White', '100', 'Home', '4']]\n"
     ]
    }
   ],
   "source": [
    "import csv\n",
    "f = open(\"guns.csv\",\"r\")\n",
    "data = list(csv.reader(f))\n",
    "print(data[:5])"
   ]
  },
  {
   "cell_type": "code",
   "execution_count": 3,
   "metadata": {
    "collapsed": false
   },
   "outputs": [
    {
     "name": "stdout",
     "output_type": "stream",
     "text": [
      "['', 'year', 'month', 'intent', 'police', 'sex', 'age', 'race', 'hispanic', 'place', 'education']\n",
      "[['1', '2012', '01', 'Suicide', '0', 'M', '34', 'Asian/Pacific Islander', '100', 'Home', '4'], ['2', '2012', '01', 'Suicide', '0', 'F', '21', 'White', '100', 'Street', '3'], ['3', '2012', '01', 'Suicide', '0', 'M', '60', 'White', '100', 'Other specified', '4'], ['4', '2012', '02', 'Suicide', '0', 'M', '64', 'White', '100', 'Home', '4'], ['5', '2012', '02', 'Suicide', '0', 'M', '31', 'White', '100', 'Other specified', '2']]\n"
     ]
    }
   ],
   "source": [
    "headers = data[0]\n",
    "data = data[1:]\n",
    "print(headers)\n",
    "print(data[:5])"
   ]
  },
  {
   "cell_type": "code",
   "execution_count": 4,
   "metadata": {
    "collapsed": false
   },
   "outputs": [
    {
     "name": "stdout",
     "output_type": "stream",
     "text": [
      "{'2012': 33563, '2014': 33599, '2013': 33636}\n"
     ]
    }
   ],
   "source": [
    "years = [x[1] for x in data]\n",
    "year_counts = {}\n",
    "for year in years:\n",
    "    if year in year_counts:\n",
    "        year_counts[year] += 1\n",
    "    else:\n",
    "        year_counts[year] = 1\n",
    "print(year_counts)"
   ]
  },
  {
   "cell_type": "code",
   "execution_count": 5,
   "metadata": {
    "collapsed": false
   },
   "outputs": [
    {
     "name": "stdout",
     "output_type": "stream",
     "text": [
      "[datetime.datetime(2012, 1, 1, 0, 0), datetime.datetime(2012, 1, 1, 0, 0), datetime.datetime(2012, 1, 1, 0, 0), datetime.datetime(2012, 2, 1, 0, 0), datetime.datetime(2012, 2, 1, 0, 0)]\n"
     ]
    }
   ],
   "source": [
    "import datetime\n",
    "dates = [datetime.datetime(year=int(x[1]), month=int(x[2]), day=1) for x in data]\n",
    "print(dates[:5])"
   ]
  },
  {
   "cell_type": "code",
   "execution_count": 6,
   "metadata": {
    "collapsed": false
   },
   "outputs": [
    {
     "name": "stdout",
     "output_type": "stream",
     "text": [
      "################################\n",
      "{datetime.datetime(2012, 4, 1, 0, 0): 2795, datetime.datetime(2014, 11, 1, 0, 0): 2756, datetime.datetime(2014, 1, 1, 0, 0): 2651, datetime.datetime(2014, 7, 1, 0, 0): 2884, datetime.datetime(2012, 11, 1, 0, 0): 2729, datetime.datetime(2014, 12, 1, 0, 0): 2857, datetime.datetime(2012, 9, 1, 0, 0): 2852, datetime.datetime(2014, 9, 1, 0, 0): 2914, datetime.datetime(2014, 5, 1, 0, 0): 2864, datetime.datetime(2014, 2, 1, 0, 0): 2361, datetime.datetime(2013, 11, 1, 0, 0): 2758, datetime.datetime(2013, 9, 1, 0, 0): 2742, datetime.datetime(2013, 7, 1, 0, 0): 3079, datetime.datetime(2012, 2, 1, 0, 0): 2357, datetime.datetime(2012, 6, 1, 0, 0): 2826, datetime.datetime(2013, 6, 1, 0, 0): 2920, datetime.datetime(2013, 1, 1, 0, 0): 2864, datetime.datetime(2012, 8, 1, 0, 0): 2954, datetime.datetime(2014, 4, 1, 0, 0): 2862, datetime.datetime(2012, 12, 1, 0, 0): 2791, datetime.datetime(2013, 8, 1, 0, 0): 2859, datetime.datetime(2014, 3, 1, 0, 0): 2684, datetime.datetime(2012, 10, 1, 0, 0): 2733, datetime.datetime(2014, 8, 1, 0, 0): 2970, datetime.datetime(2014, 6, 1, 0, 0): 2931, datetime.datetime(2014, 10, 1, 0, 0): 2865, datetime.datetime(2013, 5, 1, 0, 0): 2806, datetime.datetime(2012, 1, 1, 0, 0): 2758, datetime.datetime(2012, 7, 1, 0, 0): 3026, datetime.datetime(2012, 3, 1, 0, 0): 2743, datetime.datetime(2013, 3, 1, 0, 0): 2862, datetime.datetime(2013, 12, 1, 0, 0): 2765, datetime.datetime(2013, 4, 1, 0, 0): 2798, datetime.datetime(2012, 5, 1, 0, 0): 2999, datetime.datetime(2013, 10, 1, 0, 0): 2808, datetime.datetime(2013, 2, 1, 0, 0): 2375}\n"
     ]
    }
   ],
   "source": [
    "def param_counter(param_list, param_index=False):\n",
    "    if param_index:\n",
    "        use_list = [x[param_index] for x in param_list]\n",
    "    else:\n",
    "        use_list = param_list\n",
    "    param_counts = {}\n",
    "    for param in use_list:\n",
    "        if param in param_counts:\n",
    "            param_counts[param] += 1\n",
    "        else:\n",
    "            param_counts[param] = 1\n",
    "    return param_counts\n",
    "\n",
    "date_counts = {}\n",
    "for date in dates:\n",
    "    if date in date_counts:\n",
    "        date_counts[date] +=1\n",
    "    else:\n",
    "        date_counts[date] =1\n",
    "alt_date_counts = param_counter(dates)\n",
    "#print(date_counts)\n",
    "print(\"################################\")\n",
    "print(alt_date_counts)"
   ]
  },
  {
   "cell_type": "code",
   "execution_count": 7,
   "metadata": {
    "collapsed": false
   },
   "outputs": [
    {
     "name": "stdout",
     "output_type": "stream",
     "text": [
      "{'Jul 2012': 3026, 'Mar 2012': 2743, 'Nov 2014': 2756, 'Dec 2013': 2765, 'Jan 2014': 2651, 'Nov 2012': 2729, 'Nov 2013': 2758, 'Feb 2013': 2375, 'Dec 2012': 2791, 'Sep 2013': 2742, 'Mar 2013': 2862, 'May 2012': 2999, 'Jan 2012': 2758, 'Feb 2012': 2357, 'Aug 2013': 2859, 'Jul 2013': 3079, 'Oct 2013': 2808, 'Aug 2014': 2970, 'May 2014': 2864, 'Feb 2014': 2361, 'Apr 2013': 2798, 'Jun 2014': 2931, 'Dec 2014': 2857, 'Sep 2014': 2914, 'Aug 2012': 2954, 'May 2013': 2806, 'Sep 2012': 2852, 'Jul 2014': 2884, 'Oct 2012': 2733, 'Oct 2014': 2865, 'Jan 2013': 2864, 'Jun 2013': 2920, 'Apr 2012': 2795, 'Mar 2014': 2684, 'Jun 2012': 2826, 'Apr 2014': 2862}\n"
     ]
    }
   ],
   "source": [
    "#takes list of datetime objects and returns \n",
    "#list of strings formatted as \"Mon Year\"\n",
    "def get_month_year(list_of_datetimes):    \n",
    "    months_and_years = []\n",
    "    for date in list_of_datetimes:\n",
    "        temp = date.strftime(\"%b %Y\")\n",
    "        months_and_years.append(temp)\n",
    "    return months_and_years\n",
    "\n",
    "formatted_dates = get_month_year(dates)\n",
    "formatted_dates_counts = param_counter(formatted_dates)\n",
    "print(formatted_dates_counts)"
   ]
  },
  {
   "cell_type": "code",
   "execution_count": 8,
   "metadata": {
    "collapsed": false
   },
   "outputs": [
    {
     "name": "stdout",
     "output_type": "stream",
     "text": [
      "{'F': 14449, 'M': 86349}\n",
      "{'Asian/Pacific Islander': 1326, 'White': 66237, 'Black': 23296, 'Native American/Native Alaskan': 917, 'Hispanic': 9022}\n"
     ]
    }
   ],
   "source": [
    "sex_counts = param_counter(data, 5)\n",
    "race_counts = param_counter(data, 7)\n",
    "print(sex_counts)\n",
    "print(race_counts)"
   ]
  },
  {
   "cell_type": "markdown",
   "metadata": {},
   "source": [
    "# Findings So Far:\n",
    "\n",
    "### Most likely victim is a White Male.\n",
    "##### No real difference between months for gun violence\n",
    "Would like to know:\n",
    "* Percentage of population vs percentage of victims. Are there just more white victims because there are just most white people?\n",
    "* breakdown by both race and sex"
   ]
  },
  {
   "cell_type": "code",
   "execution_count": 9,
   "metadata": {
    "collapsed": false
   },
   "outputs": [],
   "source": [
    "g= open(\"census.csv\", \"r\")\n",
    "census = list(csv.reader(g))"
   ]
  },
  {
   "cell_type": "code",
   "execution_count": 10,
   "metadata": {
    "collapsed": false
   },
   "outputs": [
    {
     "name": "stdout",
     "output_type": "stream",
     "text": [
      "{'Asian/Pacific Islander': 8.374309664161762, 'White': 33.56849303419181, 'Black': 57.8773477735196, 'Native American/Native Alaskan': 24.521955573811088, 'Hispanic': 20.220491210910907}\n"
     ]
    }
   ],
   "source": [
    "mapping = {\n",
    "    \"Asian/Pacific Islander\": 15834141,\n",
    "    \"Black\": 40250635,\n",
    "    \"Native American/Native Alaskan\": 3739506,\n",
    "    \"Hispanic\": 44618105,\n",
    "    \"White\":197318956\n",
    "}\n",
    "race_per_hundredk = {}\n",
    "for race in race_counts:\n",
    "    temp = race_counts[race]/mapping[race]\n",
    "    temp = temp * 100000\n",
    "    race_per_hundredk[race] = temp\n",
    "print(race_per_hundredk)"
   ]
  },
  {
   "cell_type": "code",
   "execution_count": 12,
   "metadata": {
    "collapsed": false
   },
   "outputs": [
    {
     "name": "stdout",
     "output_type": "stream",
     "text": [
      "{'Asian/Pacific Islander': 3.530346230970155, 'White': 4.6356417981453335, 'Black': 48.471284987180944, 'Native American/Native Alaskan': 8.717729026240365, 'Hispanic': 12.627161104219914}\n"
     ]
    }
   ],
   "source": [
    "intents = [x[3] for x in data]\n",
    "races = [x[7] for x in data]\n",
    "#these variables are the columns from the data, \n",
    "#synced up by index so that we can match the row number\n",
    "#by matching the index\n",
    "\n",
    "homicide_race_counts = {}\n",
    "for i, race in enumerate(races):\n",
    "    if intents[i] == \"Homicide\":\n",
    "        if races[i] in homicide_race_counts:\n",
    "            homicide_race_counts[races[i]] += 1\n",
    "        else:\n",
    "            homicide_race_counts[races[i]] = 1\n",
    "\n",
    "for race in homicide_race_counts:\n",
    "    temp = homicide_race_counts[race]\n",
    "    #temp is an int, = number of homicides for the given race\n",
    "    temp = temp/mapping[race]\n",
    "    temp = temp * 100000\n",
    "    homicide_race_counts[race] = temp\n",
    "print(homicide_race_counts)"
   ]
  },
  {
   "cell_type": "markdown",
   "metadata": {},
   "source": [
    "## While more White people die from firearms than any other group, Black people are disproprtionately more likely to be killed by a gun, and are 12 times more likely to be murdered via gun than White people."
   ]
  },
  {
   "cell_type": "markdown",
   "metadata": {},
   "source": [
    "##### Next Step: look at police violence"
   ]
  },
  {
   "cell_type": "code",
   "execution_count": 18,
   "metadata": {
    "collapsed": false
   },
   "outputs": [
    {
     "name": "stdout",
     "output_type": "stream",
     "text": [
      "{'Hispanic': 63.20304280067475, 'White': 35.93167196769478, 'Black': 88.44580961269307, 'Native American/Native Alaskan': 66.85375020122979, 'Asian/Pacific Islander': 18.94640195511711}\n"
     ]
    }
   ],
   "source": [
    "police_involvements = [x[4] for x in data]\n",
    "\n",
    "police_homicide_race_counts = {}\n",
    "for i, race in enumerate(races):\n",
    "    if intents[i] == \"Homicide\" and police_involvements[i]==\"1\":\n",
    "        if races[i] in police_homicide_race_counts:\n",
    "            police_homicide_race_counts[races[i]] += 1\n",
    "        else:\n",
    "            police_homicide_race_counts[races[i]] = 1\n",
    "\n",
    "for race in police_homicide_race_counts:\n",
    "    temp = police_homicide_race_counts[race]\n",
    "    #temp is an int, = number of homicides for the given race\n",
    "    temp = temp/mapping[race]\n",
    "    temp = temp * 10000000\n",
    "    police_homicide_race_counts[race] = temp\n",
    "print(police_homicide_race_counts)"
   ]
  },
  {
   "cell_type": "code",
   "execution_count": 19,
   "metadata": {
    "collapsed": false
   },
   "outputs": [
    {
     "name": "stdout",
     "output_type": "stream",
     "text": [
      "{'NA': 1, 'Undetermined': 807, 'Suicide': 63175, 'Accidental': 1639, 'Homicide': 35176}\n"
     ]
    }
   ],
   "source": [
    "intent_counts = param_counter(intents)\n",
    "print(intent_counts)"
   ]
  },
  {
   "cell_type": "code",
   "execution_count": null,
   "metadata": {
    "collapsed": true
   },
   "outputs": [],
   "source": []
  }
 ],
 "metadata": {
  "kernelspec": {
   "display_name": "Python 3",
   "language": "python",
   "name": "python3"
  },
  "language_info": {
   "codemirror_mode": {
    "name": "ipython",
    "version": 3
   },
   "file_extension": ".py",
   "mimetype": "text/x-python",
   "name": "python",
   "nbconvert_exporter": "python",
   "pygments_lexer": "ipython3",
   "version": "3.4.3"
  }
 },
 "nbformat": 4,
 "nbformat_minor": 0
}
